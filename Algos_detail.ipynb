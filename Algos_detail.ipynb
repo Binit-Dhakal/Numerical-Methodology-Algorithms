{
 "cells": [
  {
   "cell_type": "markdown",
   "id": "b0fb4c6d-49af-40c2-b12b-aafb21bbdb45",
   "metadata": {},
   "source": [
    "# Solution of System of Linear Equations \n",
    "- Basic Gauss Elimination Method\n",
    "- Gauss Elimination with pivoting\n",
    "- Gauss Jordan Method\n",
    "- LU factorization\n",
    "- Matrix Inverse \n",
    "- Matrix Inverse using Gauss Jordan Method\n",
    "<br>\n",
    "- Jacobi Iterative Method Algorithm\n",
    "- Gauss Siedel Method\n",
    "<br>\n",
    "- Power Method"
   ]
  },
  {
   "cell_type": "code",
   "execution_count": null,
   "id": "e3dbaf16-d405-420f-b711-49d76349bb24",
   "metadata": {},
   "outputs": [],
   "source": []
  }
 ],
 "metadata": {
  "kernelspec": {
   "display_name": "Python 3 (ipykernel)",
   "language": "python",
   "name": "python3"
  },
  "language_info": {
   "codemirror_mode": {
    "name": "ipython",
    "version": 3
   },
   "file_extension": ".py",
   "mimetype": "text/x-python",
   "name": "python",
   "nbconvert_exporter": "python",
   "pygments_lexer": "ipython3",
   "version": "3.8.10"
  }
 },
 "nbformat": 4,
 "nbformat_minor": 5
}
